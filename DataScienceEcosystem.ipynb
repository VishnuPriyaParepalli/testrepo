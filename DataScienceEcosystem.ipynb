{
 "cells": [
  {
   "cell_type": "markdown",
   "id": "6e9e4892-e7bd-47fe-a058-a40bd1e7ad04",
   "metadata": {},
   "source": [
    "# Data Science Tools and Ecosystem"
   ]
  },
  {
   "cell_type": "markdown",
   "id": "905a3ca4-8b01-4504-a074-c68b0acfb059",
   "metadata": {},
   "source": []
  },
  {
   "cell_type": "markdown",
   "id": "fc40ac54-2edf-4e73-83f2-b683d8711fff",
   "metadata": {},
   "source": [
    "## In this notebook, Data Science Tools and Ecosystem are summarized."
   ]
  },
  {
   "cell_type": "markdown",
   "id": "136b339d-2d4c-4917-ba37-4dbb066a3fe1",
   "metadata": {},
   "source": [
    "### Some of the commonly used libraries used by Data Scientists include\n",
    "1. Pytorch\n",
    "2. Tensorflow\n",
    "3. Matplotlib"
   ]
  },
  {
   "cell_type": "markdown",
   "id": "74881a13-82e8-4dea-a510-7a4c023a76ed",
   "metadata": {},
   "source": [
    "| Data Science Tools |\n",
    "|--------------------|\n",
    "| IBM Watson Studio  |\n",
    "| Google Collab      |\n",
    "| Jupyter Notebook   |"
   ]
  },
  {
   "cell_type": "code",
   "execution_count": 1,
   "id": "933c810b-9d54-44e8-ab32-4401be3efa10",
   "metadata": {},
   "outputs": [
    {
     "name": "stdout",
     "output_type": "stream",
     "text": [
      "17\n"
     ]
    }
   ],
   "source": [
    "#This a simple arithmetic expression to mutiply then add integers\n",
    "print((3*4)+5)"
   ]
  },
  {
   "cell_type": "code",
   "execution_count": 4,
   "id": "3b0ee7fc-e370-4305-b905-161231900894",
   "metadata": {},
   "outputs": [
    {
     "name": "stdout",
     "output_type": "stream",
     "text": [
      "200 minutes in hours equal to 3.3333333333333335\n"
     ]
    }
   ],
   "source": [
    "#This will convert 200 minutes to hours by diving by 60\n",
    "print(\"200 minutes in hours equal to\",(200/60), hours)"
   ]
  },
  {
   "cell_type": "markdown",
   "id": "87cb6848-b2dd-4390-afc7-59efb36a152f",
   "metadata": {},
   "source": [
    "## Author \n",
    " Vishnu\n",
    " "
   ]
  },
  {
   "cell_type": "code",
   "execution_count": null,
   "id": "25423ae1-ef55-408e-929d-a12f5b7cd1b1",
   "metadata": {},
   "outputs": [],
   "source": []
  }
 ],
 "metadata": {
  "kernelspec": {
   "display_name": "Python 3 (ipykernel)",
   "language": "python",
   "name": "python3"
  },
  "language_info": {
   "codemirror_mode": {
    "name": "ipython",
    "version": 3
   },
   "file_extension": ".py",
   "mimetype": "text/x-python",
   "name": "python",
   "nbconvert_exporter": "python",
   "pygments_lexer": "ipython3",
   "version": "3.12.8"
  }
 },
 "nbformat": 4,
 "nbformat_minor": 5
}
